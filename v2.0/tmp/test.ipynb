{
 "cells": [
  {
   "cell_type": "code",
   "execution_count": 38,
   "id": "initial_id",
   "metadata": {
    "collapsed": true,
    "ExecuteTime": {
     "end_time": "2025-04-11T06:00:02.408963400Z",
     "start_time": "2025-04-11T06:00:02.388187300Z"
    }
   },
   "outputs": [
    {
     "name": "stdout",
     "output_type": "stream",
     "text": [
      "[[  0.   0. -inf -inf -inf]\n",
      " [-inf   0.   0. -inf -inf]\n",
      " [-inf -inf -inf   0. -inf]\n",
      " [-inf -inf -inf   0.   0.]\n",
      " [-inf   0. -inf -inf -inf]]\n"
     ]
    },
    {
     "name": "stderr",
     "output_type": "stream",
     "text": [
      "D:\\conda\\envs\\zhangpy\\lib\\site-packages\\ipykernel_launcher.py:28: RuntimeWarning: divide by zero encountered in log\n"
     ]
    }
   ],
   "source": [
    "import numpy as np\n",
    "\n",
    "# 随机生成发射概率矩阵 (T x N) 示例，T = 100, N = 5 states\n",
    "np.random.seed(50)\n",
    "T = 100\n",
    "states = [\"intergenic\", \"exon\", \"DSS\", \"intron\", \"ASS\"]\n",
    "N = len(states)\n",
    "prob = np.random.rand(T, N)\n",
    "prob = prob / prob.sum(axis=1, keepdims=True)  # 每一行归一化为概率分布\n",
    "\n",
    "# 状态转移概率（简化版）\n",
    "trans = {\n",
    "    \"intergenic\": [\"intergenic\", \"exon\"],\n",
    "    \"exon\": [\"exon\", \"DSS\"],\n",
    "    \"DSS\": [\"intron\"],\n",
    "    \"intron\": [\"ASS\"],  # intron不能直接跳其他状态\n",
    "    \"ASS\": [\"exon\"]\n",
    "}\n",
    "state_to_idx = {s: i for i, s in enumerate(states)}\n",
    "\n",
    "A = np.array([\n",
    "    [1, 1, 0, 0, 0],  # 0→\n",
    "    [0, 1, 1, 0, 0],  # 1→\n",
    "    [0, 0, 0, 1, 0],  # 2→\n",
    "    [0, 0, 0, 1, 1],  # 3→\n",
    "    [0, 1, 0, 0, 0]\n",
    "])\n",
    "A = np.log(A)\n",
    "print(A)\n",
    "# 最短持续时间设置\n",
    "min_duration = {\"intron\": 10}\n",
    "\n",
    "# 初始化DP矩阵（log概率）\n",
    "V = np.full((T + 1, N), -np.inf)\n",
    "B = np.full((T + 1, N), -1, dtype=int)\n",
    "\n",
    "# 初始状态设置\n",
    "V[0, state_to_idx[\"intergenic\"]] = 0\n"
   ]
  },
  {
   "cell_type": "code",
   "execution_count": 37,
   "outputs": [
    {
     "data": {
      "text/plain": "(['intergenic',\n  'intergenic',\n  'intergenic',\n  'intergenic',\n  'intergenic',\n  'intergenic',\n  'intergenic',\n  'intergenic',\n  'intergenic',\n  'intergenic',\n  'intergenic',\n  'intergenic',\n  'exon',\n  'exon',\n  'DSS',\n  'intron',\n  'intron',\n  'intron',\n  'intron',\n  'intron',\n  'intron',\n  'intron',\n  'intron',\n  'intron',\n  'intron',\n  'intron',\n  'intron',\n  'intron',\n  'intron',\n  'intron',\n  'intron',\n  'intron',\n  'intron',\n  'intron',\n  'ASS',\n  'exon',\n  'exon',\n  'DSS',\n  'intron',\n  'intron',\n  'intron',\n  'intron',\n  'intron',\n  'intron',\n  'intron',\n  'intron',\n  'intron',\n  'intron',\n  'ASS',\n  'exon',\n  'DSS',\n  'intron',\n  'intron',\n  'intron',\n  'intron',\n  'intron',\n  'intron',\n  'intron',\n  'intron',\n  'intron',\n  'intron',\n  'ASS',\n  'exon',\n  'exon',\n  'exon',\n  'exon',\n  'exon',\n  'exon',\n  'exon',\n  'DSS',\n  'intron',\n  'intron',\n  'intron',\n  'intron',\n  'intron',\n  'intron',\n  'intron',\n  'intron',\n  'intron',\n  'intron',\n  'ASS',\n  'exon',\n  'exon',\n  'DSS',\n  'intron',\n  'intron',\n  'intron',\n  'intron',\n  'intron',\n  'intron',\n  'intron',\n  'intron',\n  'intron',\n  'intron',\n  'ASS',\n  'exon',\n  'exon',\n  'exon',\n  'exon',\n  'DSS'],\n [19, 10, 10, 10, 10])"
     },
     "execution_count": 37,
     "metadata": {},
     "output_type": "execute_result"
    }
   ],
   "source": [
    "for t in range(1, T + 1):\n",
    "    for j in range(N):\n",
    "        state_j = states[j]\n",
    "        if state_j == \"intron\":\n",
    "            for d in range(min_duration[\"intron\"], min(t, 100) + 1):  # t-d >= 0\n",
    "                t0 = t - d\n",
    "                for i in range(N):\n",
    "                    if A[i, j] < np.inf and V[t0, i] > -np.inf:\n",
    "                        emit = -np.sum(np.log(prob[t0:t, j]))\n",
    "                        score = V[t0, i] + A[i, j] + emit\n",
    "                        if score > V[t, j]:\n",
    "                            V[t, j] = score\n",
    "                            B[t, j] = i\n",
    "        else:\n",
    "            i = B[t - 1, :].argmax()\n",
    "            for i in range(N):\n",
    "                if A[i, j] < np.inf and V[t - 1, i] > -np.inf:\n",
    "                    score = V[t - 1, i] + A[i, j] - np.log(prob[t - 1, j])\n",
    "                    if score > V[t, j]:\n",
    "                        V[t, j] = score\n",
    "                        B[t, j] = i\n",
    "\n",
    "# 回溯路径\n",
    "decoded_indices = []\n",
    "t = T\n",
    "j = np.argmax(V[T])\n",
    "while t > 0:\n",
    "    decoded_indices.append(j)\n",
    "    i = B[t, j]\n",
    "    state_j = states[j]\n",
    "    if state_j == \"intron\":\n",
    "        # 按最小长度跳回\n",
    "        for dt in range(min_duration[\"intron\"], t + 1):\n",
    "            if V[t - dt, i] + A[i, j] - np.sum(np.log(prob[t - dt:t, j])) == V[t, j]:\n",
    "                for _ in range(dt - 1):\n",
    "                    decoded_indices.append(j)\n",
    "                t -= dt\n",
    "                break\n",
    "    else:\n",
    "        t -= 1\n",
    "    j = i\n",
    "\n",
    "decoded_indices = decoded_indices[::-1]\n",
    "decoded_states = [states[idx] for idx in decoded_indices]\n",
    "\n",
    "# 计算intron连续区间长度\n",
    "intron_lengths = []\n",
    "run = 0\n",
    "for s in decoded_states:\n",
    "    if s == \"intron\":\n",
    "        run += 1\n",
    "    else:\n",
    "        if run > 0:\n",
    "            intron_lengths.append(run)\n",
    "            run = 0\n",
    "if run > 0:\n",
    "    intron_lengths.append(run)\n",
    "\n",
    "decoded_states, intron_lengths"
   ],
   "metadata": {
    "collapsed": false,
    "ExecuteTime": {
     "end_time": "2025-04-11T05:56:40.693568300Z",
     "start_time": "2025-04-11T05:56:40.598404100Z"
    }
   },
   "id": "505cbac152f93034"
  },
  {
   "cell_type": "code",
   "execution_count": 16,
   "outputs": [
    {
     "name": "stdout",
     "output_type": "stream",
     "text": [
      "[[2.49095328e-01 2.30134075e-01 1.72640623e-01 2.87784207e-01\n",
      "  6.03457683e-02]\n",
      " [3.47705548e-02 2.71751668e-01 1.39748255e-01 2.69526288e-01\n",
      "  2.84203234e-01]\n",
      " [2.46744449e-02 3.49020853e-01 1.77112553e-01 2.01651034e-01\n",
      "  2.47541115e-01]\n",
      " [3.27023452e-01 6.74819577e-03 1.68331093e-01 2.42773596e-01\n",
      "  2.55123663e-01]\n",
      " [3.02479855e-01 5.87177099e-02 1.30768077e-01 1.56677457e-01\n",
      "  3.51356902e-01]\n",
      " [1.13612738e-01 8.58759463e-02 3.90222201e-01 3.61236386e-03\n",
      "  4.06676751e-01]\n",
      " [2.65202257e-01 3.24623248e-01 1.15442184e-01 5.60922647e-03\n",
      "  2.89123085e-01]\n",
      " [2.57466203e-01 2.28554592e-01 4.40920210e-02 2.32552278e-01\n",
      "  2.37334906e-01]\n",
      " [2.21522961e-01 2.57709687e-01 2.84555039e-01 2.06407043e-01\n",
      "  2.98052711e-02]\n",
      " [3.37240126e-01 5.37017595e-02 2.81854029e-01 2.81552120e-01\n",
      "  4.56519659e-02]\n",
      " [1.52452640e-01 4.85119180e-02 3.53240647e-01 4.14188750e-01\n",
      "  3.16060451e-02]\n",
      " [4.05613212e-01 2.21925032e-01 1.27217948e-01 3.26413746e-02\n",
      "  2.12602433e-01]\n",
      " [3.91849630e-01 3.48730212e-01 2.47711252e-02 3.59546864e-02\n",
      "  1.98694346e-01]\n",
      " [1.16192509e-01 9.14398470e-02 1.10571178e-01 3.16158759e-01\n",
      "  3.65637707e-01]\n",
      " [1.73478488e-01 3.88026959e-01 1.37675184e-01 2.04026211e-01\n",
      "  9.67931572e-02]\n",
      " [1.98376899e-01 3.03223267e-01 1.86922041e-01 1.10827016e-01\n",
      "  2.00650778e-01]\n",
      " [4.82064894e-02 3.48510398e-01 1.97297245e-01 1.76224000e-01\n",
      "  2.29761868e-01]\n",
      " [2.67566376e-01 3.07382976e-02 2.92333760e-01 1.03608282e-01\n",
      "  3.05753285e-01]\n",
      " [2.89417024e-01 2.82880773e-01 1.94402944e-01 1.83026935e-01\n",
      "  5.02723238e-02]\n",
      " [3.95271496e-01 1.38364512e-01 2.53215345e-01 1.44922943e-01\n",
      "  6.82257044e-02]\n",
      " [3.59694544e-01 3.10423279e-02 4.27734594e-01 1.81451578e-01\n",
      "  7.69561536e-05]\n",
      " [3.18695481e-01 2.92127574e-02 1.72195211e-01 4.40808779e-01\n",
      "  3.90877717e-02]\n",
      " [3.90906995e-01 1.77906113e-03 1.14953833e-01 3.45062905e-01\n",
      "  1.47297205e-01]\n",
      " [5.39518685e-02 1.90743326e-01 1.43172844e-01 4.46214703e-01\n",
      "  1.65917258e-01]\n",
      " [2.31910509e-01 2.62170123e-01 1.27522725e-01 2.67482180e-01\n",
      "  1.10914464e-01]\n",
      " [3.67709212e-01 3.40559234e-02 2.62036063e-01 1.88345645e-01\n",
      "  1.47853156e-01]\n",
      " [2.84885830e-01 3.16919783e-01 1.96461255e-03 7.51725561e-02\n",
      "  3.21057218e-01]\n",
      " [1.64670372e-01 2.38719814e-01 1.88059903e-01 2.34945262e-01\n",
      "  1.73604649e-01]\n",
      " [1.58743067e-01 5.61175204e-02 4.16400598e-01 3.43074871e-01\n",
      "  2.56639446e-02]\n",
      " [1.32973780e-01 3.53365152e-01 1.84808070e-01 1.59815454e-01\n",
      "  1.69037544e-01]\n",
      " [1.18191408e-01 2.08624336e-01 2.09250188e-01 2.96238646e-02\n",
      "  4.34310204e-01]\n",
      " [1.40788016e-01 2.77915591e-01 2.87437058e-01 7.16588352e-02\n",
      "  2.22200500e-01]\n",
      " [1.65495473e-01 3.08421698e-01 7.55991561e-02 2.37517125e-01\n",
      "  2.12966547e-01]\n",
      " [1.38135487e-01 6.38988754e-02 3.04822639e-01 3.45499522e-01\n",
      "  1.47643477e-01]\n",
      " [2.26846004e-01 1.39003312e-01 2.50899428e-01 7.00820473e-02\n",
      "  3.13169208e-01]\n",
      " [2.14378920e-01 2.74331698e-01 4.33308076e-02 8.31769986e-02\n",
      "  3.84781576e-01]\n",
      " [1.45890207e-01 4.55499697e-01 8.01076300e-03 2.06680205e-01\n",
      "  1.83919128e-01]\n",
      " [1.32882251e-02 8.55063557e-02 2.84389588e-01 3.38856613e-01\n",
      "  2.77959218e-01]\n",
      " [2.07107291e-01 2.32147979e-01 3.87106773e-03 1.81033472e-01\n",
      "  3.75840190e-01]\n",
      " [1.69876468e-01 2.21755932e-01 1.02071360e-01 2.53323206e-01\n",
      "  2.52973035e-01]\n",
      " [2.16308469e-01 4.04990709e-01 5.20962606e-02 7.03232542e-03\n",
      "  3.19572236e-01]\n",
      " [5.36741594e-01 7.99352997e-02 1.76607044e-01 1.16719555e-02\n",
      "  1.95044107e-01]\n",
      " [3.84209792e-01 2.57398433e-01 1.72984726e-01 1.84734370e-01\n",
      "  6.72678938e-04]\n",
      " [1.07412671e-01 2.31613536e-01 3.49034834e-01 3.03485344e-01\n",
      "  8.45361481e-03]\n",
      " [2.70802810e-01 2.36035644e-01 2.35185079e-01 1.38028017e-01\n",
      "  1.19948450e-01]\n",
      " [2.28180525e-01 4.94866590e-02 1.71925259e-01 1.85761720e-01\n",
      "  3.64645838e-01]\n",
      " [2.35074033e-01 1.49014945e-01 1.81922935e-02 3.01228439e-01\n",
      "  2.96490289e-01]\n",
      " [2.33730968e-01 2.95093118e-01 1.62078550e-01 2.86591665e-01\n",
      "  2.25056988e-02]\n",
      " [2.35906064e-01 1.45396793e-01 1.26334822e-01 9.08340668e-02\n",
      "  4.01528255e-01]\n",
      " [2.64526545e-01 1.95790347e-01 4.97561120e-02 2.74616365e-01\n",
      "  2.15310630e-01]\n",
      " [1.50167842e-01 2.60797618e-01 1.00548218e-01 1.33542887e-01\n",
      "  3.54943435e-01]\n",
      " [1.20015487e-01 1.94165219e-01 3.67742049e-01 2.92379364e-01\n",
      "  2.56978819e-02]\n",
      " [1.07676507e-01 5.73209540e-03 4.61195183e-01 3.27243139e-01\n",
      "  9.81530759e-02]\n",
      " [3.29219674e-01 1.82031726e-01 8.31330983e-02 1.72045802e-01\n",
      "  2.33569699e-01]\n",
      " [3.52282416e-02 1.26933783e-01 3.72878632e-01 2.12399675e-01\n",
      "  2.52559668e-01]\n",
      " [3.33655870e-01 3.38422644e-02 1.27775745e-01 3.43466005e-01\n",
      "  1.61260116e-01]\n",
      " [1.41915362e-02 2.39554170e-01 2.78609442e-01 2.25212776e-01\n",
      "  2.42432075e-01]\n",
      " [7.23231082e-02 2.87116095e-01 5.88579549e-02 2.84367209e-01\n",
      "  2.97335634e-01]\n",
      " [2.40532707e-01 3.31585774e-01 1.92480757e-01 8.77143280e-02\n",
      "  1.47686434e-01]\n",
      " [2.41258331e-01 2.97046767e-02 2.52957175e-01 3.98808805e-01\n",
      "  7.72710122e-02]\n",
      " [1.92107444e-01 2.20054494e-01 2.28732297e-01 2.32715536e-01\n",
      "  1.26390229e-01]\n",
      " [3.16125286e-01 2.44963643e-01 5.22951146e-02 1.54260680e-01\n",
      "  2.32355276e-01]\n",
      " [1.08371322e-01 2.80683375e-01 2.92068744e-01 7.12863421e-02\n",
      "  2.47590217e-01]\n",
      " [4.68023261e-01 3.02600612e-01 7.34103503e-03 5.48220094e-03\n",
      "  2.16552890e-01]\n",
      " [3.97000365e-01 9.80191603e-02 2.71911281e-01 9.51897714e-02\n",
      "  1.37879422e-01]\n",
      " [3.98109194e-01 3.42160424e-01 4.47847221e-02 2.01252058e-01\n",
      "  1.36936023e-02]\n",
      " [2.46794054e-01 3.39962831e-01 6.08158498e-02 1.48256490e-01\n",
      "  2.04170775e-01]\n",
      " [2.97541515e-01 3.21397097e-01 1.45323818e-02 2.46246668e-01\n",
      "  1.20282338e-01]\n",
      " [1.09222448e-01 2.09914508e-01 2.55601201e-01 2.64646663e-01\n",
      "  1.60615179e-01]\n",
      " [1.54042809e-01 3.39706204e-01 1.08268460e-01 2.43311116e-01\n",
      "  1.54671411e-01]\n",
      " [3.11396478e-01 1.14005227e-01 9.08598008e-02 4.35459772e-01\n",
      "  4.82787209e-02]\n",
      " [5.17878834e-01 2.26056318e-01 3.98471962e-02 3.68674614e-02\n",
      "  1.79350190e-01]\n",
      " [2.77994135e-01 9.05977387e-02 3.04835155e-01 1.86540282e-01\n",
      "  1.40032690e-01]\n",
      " [2.32863603e-01 2.07416934e-01 3.04593645e-01 1.13401686e-01\n",
      "  1.41724132e-01]\n",
      " [2.27335854e-01 2.40649670e-01 2.26945285e-01 1.06650459e-01\n",
      "  1.98418732e-01]\n",
      " [2.43547602e-01 2.54389141e-01 1.04651712e-01 3.02241377e-01\n",
      "  9.51701677e-02]\n",
      " [2.16166899e-01 5.57445434e-01 1.35005131e-01 4.63923509e-02\n",
      "  4.49901855e-02]\n",
      " [2.68502408e-01 1.44676443e-01 1.16847296e-01 2.31426907e-01\n",
      "  2.38546946e-01]\n",
      " [1.27609820e-01 2.66450525e-01 2.96223660e-01 2.51481370e-01\n",
      "  5.82346248e-02]\n",
      " [4.05454624e-01 2.49552005e-01 1.30759177e-01 1.96842178e-01\n",
      "  1.73920157e-02]\n",
      " [6.97771993e-02 4.17760573e-01 6.34911202e-06 2.27320904e-01\n",
      "  2.85134974e-01]\n",
      " [2.93421224e-02 5.22604222e-01 1.21443536e-01 1.63373860e-01\n",
      "  1.63236260e-01]\n",
      " [1.07052322e-01 6.84742478e-04 3.38855936e-01 4.49199527e-01\n",
      "  1.04207473e-01]\n",
      " [2.22579052e-01 2.49048006e-01 2.84808862e-01 1.41872867e-01\n",
      "  1.01691214e-01]\n",
      " [1.35131379e-01 2.96031182e-01 3.39299681e-01 7.54445526e-02\n",
      "  1.54093205e-01]\n",
      " [2.34823047e-01 2.10025267e-01 2.56411070e-01 1.96370974e-01\n",
      "  1.02369642e-01]\n",
      " [2.28581586e-01 2.55817826e-01 3.03630312e-02 2.10724697e-01\n",
      "  2.74512859e-01]\n",
      " [6.62299313e-02 3.08993438e-01 2.31071778e-01 3.76913053e-01\n",
      "  1.67918001e-02]\n",
      " [1.00621646e-01 2.28131846e-01 1.12466668e-01 2.70936502e-01\n",
      "  2.87843338e-01]\n",
      " [4.22316679e-02 2.11683432e-01 2.09638539e-01 1.52125993e-01\n",
      "  3.84320368e-01]\n",
      " [2.28482262e-01 1.92506055e-01 1.97232289e-01 1.27484161e-01\n",
      "  2.54295232e-01]\n",
      " [2.06331211e-01 2.16545544e-01 2.55967316e-01 8.14136123e-02\n",
      "  2.39742316e-01]\n",
      " [7.20111360e-02 1.27373435e-01 1.23784140e-01 3.60912277e-01\n",
      "  3.15919012e-01]\n",
      " [2.04205466e-01 2.11744647e-01 1.63695480e-01 2.75826304e-01\n",
      "  1.44528103e-01]\n",
      " [1.55404839e-01 6.65842340e-02 3.21089294e-01 2.99949616e-01\n",
      "  1.56972018e-01]\n",
      " [9.88145346e-03 3.29074617e-01 4.47840345e-03 2.76007715e-01\n",
      "  3.80557811e-01]\n",
      " [1.59668397e-01 8.57234226e-02 2.57152317e-01 2.98106167e-01\n",
      "  1.99349696e-01]\n",
      " [3.11485261e-01 1.66426661e-02 1.62596332e-01 2.31416393e-01\n",
      "  2.77859349e-01]\n",
      " [8.70073668e-02 3.88306930e-01 2.68273817e-01 1.92479841e-01\n",
      "  6.39320448e-02]\n",
      " [3.46976530e-01 6.30652716e-02 1.24222401e-01 1.16305889e-01\n",
      "  3.49429909e-01]]\n"
     ]
    }
   ],
   "source": [
    "emit_probs  = np.random.rand(T, n_states)\n",
    "emit_probs  /= emit_probs .sum(axis=1, keepdims=True)  # 归一化为概率\n",
    "\n",
    "# 状态转移矩阵（原始概率）\n",
    "transition_probs  = np.array([\n",
    "    [1, 1, 0, 0, 0],  # intergenic →\n",
    "    [0, 1, 1, 0, 0],  # exon →\n",
    "    [0, 0, 0, 1, 0],  # DSS →\n",
    "    [0, 0, 0, 1, 1],  # intron →\n",
    "    [0, 1, 0, 0, 0],  # ASS →\n",
    "])\n",
    "eps = 1e-64\n",
    "log_trans = np.log(np.where(transition_probs == 0, eps, transition_probs ))  # log 概率\n"
   ],
   "metadata": {
    "collapsed": false,
    "ExecuteTime": {
     "end_time": "2025-04-11T05:36:16.613606900Z",
     "start_time": "2025-04-11T05:36:16.593590200Z"
    }
   },
   "id": "23eaf53e0eaa4ca1"
  },
  {
   "cell_type": "code",
   "execution_count": 14,
   "outputs": [
    {
     "name": "stdout",
     "output_type": "stream",
     "text": [
      "[   0.         -147.36544595 -147.36544595 -147.36544595 -147.36544595]\n"
     ]
    }
   ],
   "source": [],
   "metadata": {
    "collapsed": false,
    "ExecuteTime": {
     "end_time": "2025-04-11T05:05:28.095096100Z",
     "start_time": "2025-04-11T05:05:28.057129600Z"
    }
   },
   "id": "bc74d35aa27d938a"
  },
  {
   "cell_type": "code",
   "execution_count": 26,
   "outputs": [
    {
     "name": "stdout",
     "output_type": "stream",
     "text": [
      "生成的状态序列片段: [0, 1, 1, 1, 2, 3, 3, 3, 3, 3, 3, 3, 3, 3, 3, 3, 3, 3, 3, 3, 3, 3, 3, 4, 1, 1, 2, 3, 3, 3, 3, 3, 3, 3, 3, 3, 4, 1, 1, 2, 3, 3, 3, 3, 3, 3, 3, 3, 3, 4, 1, 1, 1, 2, 3, 3, 3, 3, 3, 3, 3, 3, 3, 4, 1, 1, 2, 3, 3, 3, 3, 3, 3, 3, 3, 3, 3, 3, 3, 3, 3, 3, 3, 3, 3, 4, 1, 1, 2, 3, 3, 3, 3, 3, 3, 3, 3, 3, 3, 3]\n",
      "观测序列片段: [1, 1, 1, 2, 2, 2, 2, 2, 0, 0, 0, 1, 1, 1, 1, 2, 0, 0, 1, 1, 2, 0, 1, 0, 1, 2, 2, 2, 0, 2, 1, 0, 1, 0, 2, 0, 0, 1, 2, 2, 2, 1, 2, 0, 0, 0, 1, 1, 0, 0, 1, 2, 2, 2, 2, 2, 2, 2, 2, 0, 1, 0, 2, 0, 1, 2, 2, 2, 0, 2, 2, 1, 2, 1, 1, 1, 1, 0, 0, 2, 1, 1, 2, 0, 1, 0, 1, 2, 2, 2, 2, 0, 2, 1, 2, 2, 1, 0, 0, 1]\n",
      "状态3持续时间段: [18, 9, 9, 9, 18, 11]\n",
      "是否满足最短持续时间: False\n",
      "\n",
      "状态3的观测分布统计:\n",
      "观测值0: 出现次数=23 (比例=0.31)\n",
      "观测值1: 出现次数=24 (比例=0.32)\n",
      "观测值2: 出现次数=27 (比例=0.36)\n"
     ]
    }
   ],
   "source": [],
   "metadata": {
    "collapsed": false,
    "ExecuteTime": {
     "end_time": "2025-04-11T05:41:33.237366Z",
     "start_time": "2025-04-11T05:41:33.214571100Z"
    }
   },
   "id": "207daccafccf928"
  },
  {
   "cell_type": "code",
   "execution_count": null,
   "outputs": [],
   "source": [],
   "metadata": {
    "collapsed": false
   },
   "id": "cf20fc762f66f860"
  },
  {
   "cell_type": "code",
   "execution_count": 42,
   "outputs": [
    {
     "name": "stdout",
     "output_type": "stream",
     "text": [
      "[{'CDS': [(0, 1)], 'intron': []}, {'CDS': [], 'intron': [(4, 5)]}, {'CDS': [(7, 9)], 'intron': [(10, 11)]}, {'CDS': [(15, 17), (20, 22), (25, 26)], 'intron': [(18, 19), (23, 24)]}]\n"
     ]
    }
   ],
   "source": [
    "import pandas as pd\n",
    "\n",
    "def parse_ranges(lst, targets):\n",
    "    def process_sublist(sublist, start_index, target_values):\n",
    "        sub_ranges = {'CDS': [], 'intron': []}\n",
    "        df = pd.DataFrame({'value': sublist})\n",
    "        for target in target_values:\n",
    "            if target == 1:\n",
    "                mask = df['value'] == target\n",
    "                key = 'CDS'\n",
    "            elif target == 2:\n",
    "                mask = df['value'] == target\n",
    "                key = 'intron'\n",
    "            else:\n",
    "                continue\n",
    "\n",
    "            if mask.any():\n",
    "                df_target = df[mask]\n",
    "                groups = (df_target.index.to_series().diff() != 1).cumsum()\n",
    "                grouped = df_target.groupby(groups).apply(lambda x: (x.index.min(), x.index.max()))\n",
    "                sub_ranges[key].extend([(start + start_index, end + start_index) for start, end in grouped.tolist()])\n",
    "        return sub_ranges\n",
    "\n",
    "    sublists = []\n",
    "    start_idx = 0\n",
    "    in_zero_sequence = False\n",
    "    for i, value in enumerate(lst):\n",
    "        if value == 0:\n",
    "            if not in_zero_sequence:\n",
    "                if i != start_idx:\n",
    "                    sublists.append((lst[start_idx:i], start_idx))\n",
    "                in_zero_sequence = True\n",
    "                start_idx = i + 1\n",
    "        else:\n",
    "            in_zero_sequence = False\n",
    "\n",
    "    if start_idx < len(lst) and not all(v == 0 for v in lst[start_idx:]):\n",
    "        sublists.append((lst[start_idx:], start_idx))\n",
    "\n",
    "    all_sublist_ranges = []\n",
    "    for sublist, start_index in sublists:\n",
    "        sub_ranges = process_sublist(sublist, start_index, targets)\n",
    "        all_sublist_ranges.append(sub_ranges)\n",
    "\n",
    "    return all_sublist_ranges\n",
    "\n",
    "targets = [1, 2]\n",
    "lst = [1, 1, 0, 0, 2, 2, 0, 1, 1, 1, 2, 2, 0, 0, 0, 1, 1, 1, 2, 2, 1, 1, 1, 2, 2, 1, 1, 0, 0]\n",
    "result = parse_ranges(lst, targets)\n",
    "print(result)"
   ],
   "metadata": {
    "collapsed": false,
    "ExecuteTime": {
     "end_time": "2025-04-11T12:26:35.715549500Z",
     "start_time": "2025-04-11T12:26:35.699756600Z"
    }
   },
   "id": "339c1d873803d506"
  },
  {
   "cell_type": "code",
   "execution_count": 50,
   "outputs": [
    {
     "name": "stdout",
     "output_type": "stream",
     "text": [
      "{'intergenic': 0, 'intron': 1, 'exon': 2}\n",
      "{'intergenic': -0.00010000500033334732, 'intron': -0.0002222469172388482, 'exon': -0.005012541823544286}\n",
      "{'intergenic': -9.210340371976182, 'intron': -8.411832675758411, 'exon': -5.298317366548036}\n"
     ]
    }
   ],
   "source": [
    "import numpy as np\n",
    "\n",
    "labels = [\"intergenic\", \"intron\", \"exon\"]\n",
    "label2id = {name: i for i, name in enumerate(labels)}\n",
    "n_states = len(labels)\n",
    "\n",
    "# 几何分布平均长度设置\n",
    "expected_lengths = {\n",
    "    \"intergenic\": 10000,\n",
    "    \"intron\": 4500,\n",
    "    \"exon\": 200\n",
    "}\n",
    "\n",
    "# 每类状态的离开概率\n",
    "p_exit = {k: 1 / v for k, v in expected_lengths.items()}\n",
    "log_one_minus_p = {k: np.log(1 - p_exit[k]) for k in labels}\n",
    "log_p = {k: np.log(p_exit[k]) for k in labels}\n",
    "print(label2id)\n",
    "print(log_one_minus_p)\n",
    "print(log_p)"
   ],
   "metadata": {
    "collapsed": false,
    "ExecuteTime": {
     "end_time": "2025-04-15T10:39:50.121988100Z",
     "start_time": "2025-04-15T10:39:50.104989300Z"
    }
   },
   "id": "54a027bee151c79f"
  },
  {
   "cell_type": "code",
   "execution_count": 48,
   "outputs": [
    {
     "name": "stdout",
     "output_type": "stream",
     "text": [
      "[{'intergenic': (0.0, None), 'intron': (-inf, None), 'exon': (-inf, None)}, {}, {}, {}, {}, {}, {}, {}, {}, {}, {}]\n"
     ]
    }
   ],
   "source": [
    "probs = np.random.dirichlet([1.0, 1.0, 1.0], size=10)\n",
    "T = len(probs)\n",
    "log_probs = np.log(probs + 1e-8)  # 防止 log(0)\n",
    "dp = [dict() for _ in range(T + 1)]  # dp[t][state] = (score, prev_t)\n",
    "dp[0] = {s: (-np.inf, None) for s in labels}\n",
    "dp[0][\"intergenic\"] = (0.0, None)  # 初始状态均匀可改\n",
    "print(dp)"
   ],
   "metadata": {
    "collapsed": false,
    "ExecuteTime": {
     "end_time": "2025-04-15T02:35:28.642768200Z",
     "start_time": "2025-04-15T02:35:28.607190800Z"
    }
   },
   "id": "5d94f887c090cc9c"
  },
  {
   "cell_type": "code",
   "execution_count": null,
   "outputs": [],
   "source": [
    "def logsumexp(arr):\n",
    "    \"\"\"Numerically stable log-sum-exp\"\"\"\n",
    "    a_max = np.max(arr)\n",
    "    return a_max + np.log(np.sum(np.exp(arr - a_max)))\n",
    "\n",
    "def viterbi_duration(probs, max_duration=1000):\n",
    "    \"\"\"\n",
    "    probs: shape (T, 3), 每个位置外部模型预测的 [intergenic, intron, exon] 概率\n",
    "    返回：最优路径（状态 id 序列）\n",
    "    \"\"\"\n",
    "    T = len(probs)\n",
    "    log_probs = np.log(probs + 1e-8)  # 防止 log(0)\n",
    "    dp = [dict() for _ in range(T + 1)]  # dp[t][state] = (score, prev_t)\n",
    "    dp[0] = {s: (-np.inf, None) for s in labels}\n",
    "    dp[0][\"intergenic\"] = (0.0, None)  # 初始状态均匀可改\n",
    "\n",
    "    backtrack = [dict() for _ in range(T + 1)]\n",
    "\n",
    "    for t in range(1, T + 1):\n",
    "        for s in labels:\n",
    "            best_score = -np.inf\n",
    "            best_prev = None\n",
    "            max_d = min(t, max_duration)\n",
    "            for d in range(1, max_d + 1):\n",
    "                prev_t = t - d\n",
    "                prev_score = dp[prev_t]\n",
    "                if not prev_score:\n",
    "                    continue\n",
    "                for prev_s in labels:\n",
    "                    stay_log_prob = (d - 1) * log_one_minus_p[s] + log_p[s]\n",
    "                    emission_score = log_probs[prev_t:t, label2id[s]].sum()\n",
    "                    score = prev_score[prev_s][0] + stay_log_prob + emission_score\n",
    "                    if score > best_score:\n",
    "                        best_score = score\n",
    "                        best_prev = (prev_t, prev_s, d)\n",
    "            dp[t][s] = (best_score, best_prev)\n",
    "            backtrack[t][s] = best_prev\n",
    "\n",
    "    # 找最终得分最高的结束状态\n",
    "    best_final_state = max(dp[T], key=lambda s: dp[T][s][0])\n",
    "    path = []\n",
    "    t = T\n",
    "    s = best_final_state\n",
    "    while t > 0:\n",
    "        prev_t, prev_s, d = backtrack[t][s]\n",
    "        path = [s] * d + path\n",
    "        t = prev_t\n",
    "        s = prev_s\n",
    "\n",
    "    return [label2id[state] for state in path]"
   ],
   "metadata": {
    "collapsed": false
   },
   "id": "3f2319dd04b011e8"
  },
  {
   "cell_type": "code",
   "execution_count": 26,
   "outputs": [
    {
     "name": "stdout",
     "output_type": "stream",
     "text": [
      "../../test\\model_predictions_0.h5\n"
     ]
    }
   ],
   "source": [
    "import h5py\n",
    "import os\n",
    "import numpy as np\n",
    "\n",
    "folder_path = f'../../test'\n",
    "file_names = [os.path.join(folder_path, f) for f in os.listdir(folder_path) if os.path.isfile(os.path.join(folder_path, f))]\n",
    "for prediction_result in file_names:\n",
    "    print(prediction_result)\n",
    "    genome_predictions = {}\n",
    "    with h5py.File(prediction_result, 'r') as h5file:\n",
    "        for chromosome in h5file.keys():\n",
    "            data = []\n",
    "            chr_group = h5file[chromosome]\n",
    "            labels = ['predictions_forward', 'predictions_reverse']\n",
    "            for label in labels:\n",
    "                dataset = np.array(chr_group[label])\n",
    "                data.append(dataset)\n",
    "            genome_predictions[chromosome] = data\n",
    "\n",
    "    for chromosome in genome_predictions:\n",
    "        predictions_forward, predictions_reverse = genome_predictions[chromosome]"
   ],
   "metadata": {
    "collapsed": false,
    "ExecuteTime": {
     "end_time": "2025-04-25T07:36:58.247754800Z",
     "start_time": "2025-04-25T07:35:46.390285100Z"
    }
   },
   "id": "10c1f30f97e99965"
  },
  {
   "cell_type": "code",
   "execution_count": 27,
   "outputs": [],
   "source": [
    "from Bio import SeqIO\n",
    "with open('../../test.fasta') as fna:\n",
    "    genome_seq = SeqIO.to_dict(SeqIO.parse(fna, \"fasta\"))"
   ],
   "metadata": {
    "collapsed": false,
    "ExecuteTime": {
     "end_time": "2025-04-25T07:37:44.889109200Z",
     "start_time": "2025-04-25T07:37:41.199349400Z"
    }
   },
   "id": "2ebe33fc79fd4941"
  },
  {
   "cell_type": "code",
   "execution_count": 6,
   "outputs": [],
   "source": [
    "dp = np.load('../../my_array.npy')"
   ],
   "metadata": {
    "collapsed": false,
    "ExecuteTime": {
     "end_time": "2025-04-21T09:45:18.001973100Z",
     "start_time": "2025-04-21T09:45:17.951944600Z"
    }
   },
   "id": "452d9c4309b40e9e"
  },
  {
   "cell_type": "code",
   "execution_count": 33,
   "outputs": [
    {
     "name": "stdout",
     "output_type": "stream",
     "text": [
      "ATGGGGAGAAGGCAGGGCGGAAGCTTCGCAG\n",
      "[[0.774      0.00000364 0.00000155 0.0000025  0.000868   0.01772    0.2075    ]\n",
      " [0.776      0.0000016  0.0000042  0.0000025  0.0007696  0.01837    0.205     ]\n",
      " [0.774      0.00000477 0.00000376 0.00000197 0.0009437  0.01762    0.2075    ]\n",
      " [0.7773     0.00000376 0.00000197 0.0000027  0.0009212  0.01872    0.2028    ]\n",
      " [0.7686     0.00000155 0.0000023  0.00000226 0.0009756  0.01912    0.2114    ]\n",
      " [0.7744     0.0000032  0.0000033  0.0000016  0.0008187  0.0197     0.205     ]\n",
      " [0.778      0.000004   0.0000025  0.0000031  0.0009747  0.01859    0.2028    ]\n",
      " [0.78       0.0000031  0.00000495 0.00000364 0.0009155  0.01851    0.2007    ]\n",
      " [0.7686     0.00000465 0.00000393 0.0000021  0.000961   0.01755    0.213     ]\n",
      " [0.7705     0.00000453 0.0000026  0.0000038  0.0008593  0.01857    0.2098    ]\n",
      " [0.7686     0.000003   0.00000423 0.00000435 0.001058   0.01819    0.2123    ]\n",
      " [0.7695     0.00000554 0.0000056  0.00000274 0.000983   0.01947    0.2102    ]\n",
      " [0.759      0.000005   0.00000274 0.0000036  0.001005   0.01923    0.221     ]\n",
      " [0.7637     0.00000286 0.0000044  0.00000405 0.0008807  0.02013    0.2152    ]\n",
      " [0.7686     0.0000049  0.00000495 0.0000033  0.001042   0.0193     0.2109    ]\n",
      " [0.773      0.0000043  0.0000034  0.00000477 0.000965   0.01997    0.206     ]\n",
      " [0.7666     0.00000286 0.0000039  0.0000032  0.000989   0.01901    0.2131    ]\n",
      " [0.7725     0.0000039  0.0000042  0.00000197 0.000878   0.0198     0.2065    ]\n",
      " [0.7744     0.00000495 0.0000023  0.00000423 0.001029   0.01846    0.2058    ]\n",
      " [0.778      0.0000025  0.00000477 0.0000038  0.000961   0.01933    0.2017    ]\n",
      " [0.7656     0.0000036  0.00000304 0.00000125 0.000974   0.01865    0.2146    ]\n",
      " [0.7734     0.0000029  0.0000013  0.00000256 0.000884   0.01941    0.2063    ]\n",
      " [0.779      0.0000015  0.00000346 0.0000031  0.001088   0.0186     0.2017    ]\n",
      " [0.78       0.0000029  0.00000304 0.0000014  0.0009756  0.01956    0.1996    ]\n",
      " [0.7744     0.0000021  0.00000113 0.0000017  0.00101    0.01898    0.2057    ]\n",
      " [0.7803     0.000001   0.00000256 0.0000012  0.00089    0.01965    0.1995    ]\n",
      " [0.777      0.00000316 0.00000167 0.00000155 0.001034   0.01814    0.204     ]\n",
      " [0.778      0.0000014  0.0000014  0.00000185 0.00097    0.01855    0.2026    ]\n",
      " [0.764      0.000001   0.00000143 0.0000008  0.000961   0.01758    0.2174    ]\n",
      " [0.7705     0.0000016  0.0000009  0.00000083 0.000827   0.01834    0.2101    ]\n",
      " [0.7715     0.0000009  0.00000113 0.0000015  0.0009704  0.01762    0.21      ]]\n"
     ]
    }
   ],
   "source": [
    "np.set_printoptions(precision=8, suppress=True, threshold=np.inf, linewidth=np.inf)\n",
    "region_start = 856508\n",
    "region_end = 856538\n",
    "\n",
    "for chr in genome_seq:\n",
    "    seq = genome_seq[chr].seq\n",
    "print(seq[region_start - 1:region_end])\n",
    "print(predictions_forward[region_start - 1:region_end])\n"
   ],
   "metadata": {
    "collapsed": false,
    "ExecuteTime": {
     "end_time": "2025-04-25T08:55:46.624296400Z",
     "start_time": "2025-04-25T08:55:46.592379200Z"
    }
   },
   "id": "7083f55766a78d86"
  },
  {
   "cell_type": "code",
   "execution_count": 319,
   "outputs": [
    {
     "name": "stdout",
     "output_type": "stream",
     "text": [
      "[[0.24833872 0.24833872 0.20332255]\n",
      " [0.57529679 0.21185161 0.21185161]]\n",
      "-18.420680743952367\n"
     ]
    }
   ],
   "source": [
    "\n",
    "# np.set_printoptions(precision=0, suppress=True, threshold=np.inf, linewidth=np.inf)\n",
    "\n",
    "# print(dp[region_start-1-100521843:region_end-100521843, 4:10])\n",
    "# # print(dp[region_start-1-100521843:region_end-100521843, 19])\n",
    "# # print(dp[region_start-1-100521843:region_end-100521843, 20])\n",
    "# print(dp[region_start-1-100521843:region_end-100521843, 23])\n",
    "# print(dp[region_start-1-100521843:region_end-100521843, 24])\n",
    "# print(dp[region_start-1-100521843:region_end-100521843, 25])\n",
    "# print(dp[region_start-1-100521843:region_end-100521843, 28])\n",
    "# print(dp[region_start-1-100521843:region_end-100521843, 26])\n",
    "# print(dp[region_start-1-100521843:region_end-100521843, 27])\n",
    "# print(dp[region_start-1-100521843:region_end-100521843, 8])\n",
    "# print(dp[region_start-100521843:region_end-100521843, 6])\n",
    "# print(dp[region_start-100521843:region_end-100521843, 9])\n",
    "# print(dp[region_start-100521843:region_end-100521843, 19])\n",
    "# print(dp[region_start-100521843:region_end-100521843, 20])\n",
    "# print('----------------------------------------------------------------------')\n",
    "# print(predictions_reverse[region_start - 1:region_end])\n",
    "def softmax(x, T=1.0):\n",
    "    x = np.exp(x / T)\n",
    "    return x / np.sum(x, axis=1, keepdims=True)\n",
    "\n",
    "x = np.array([[0.3, 0.3, 0.1],\n",
    "             [0.999, 0., 0.]])\n",
    "intron_sum = x.sum(axis=1, keepdims=True)\n",
    "x = np.exp(x / 1)\n",
    "x_scaled = x / np.sum(x, axis=1, keepdims=True) * intron_sum\n",
    "print(x_scaled)\n",
    "print(np.log(1e-8))"
   ],
   "metadata": {
    "collapsed": false,
    "ExecuteTime": {
     "end_time": "2025-04-22T07:30:05.687794500Z",
     "start_time": "2025-04-22T07:30:05.670609100Z"
    }
   },
   "id": "a876fcfcfecdf4cc"
  }
 ],
 "metadata": {
  "kernelspec": {
   "display_name": "Python 3",
   "language": "python",
   "name": "python3"
  },
  "language_info": {
   "codemirror_mode": {
    "name": "ipython",
    "version": 2
   },
   "file_extension": ".py",
   "mimetype": "text/x-python",
   "name": "python",
   "nbconvert_exporter": "python",
   "pygments_lexer": "ipython2",
   "version": "2.7.6"
  }
 },
 "nbformat": 4,
 "nbformat_minor": 5
}
